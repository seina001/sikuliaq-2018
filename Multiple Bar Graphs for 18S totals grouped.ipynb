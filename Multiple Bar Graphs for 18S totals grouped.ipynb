{
 "cells": [
  {
   "cell_type": "code",
   "execution_count": 22,
   "metadata": {},
   "outputs": [],
   "source": [
    "import numpy as np\n",
    "import pandas as pd\n",
    "import matplotlib.pyplot as plt\n",
    "\n",
    "from matplotlib.font_manager import FontProperties"
   ]
  },
  {
   "cell_type": "code",
   "execution_count": 5,
   "metadata": {},
   "outputs": [
    {
     "data": {
      "text/html": [
       "<div>\n",
       "<style scoped>\n",
       "    .dataframe tbody tr th:only-of-type {\n",
       "        vertical-align: middle;\n",
       "    }\n",
       "\n",
       "    .dataframe tbody tr th {\n",
       "        vertical-align: top;\n",
       "    }\n",
       "\n",
       "    .dataframe thead th {\n",
       "        text-align: right;\n",
       "    }\n",
       "</style>\n",
       "<table border=\"1\" class=\"dataframe\">\n",
       "  <thead>\n",
       "    <tr style=\"text-align: right;\">\n",
       "      <th></th>\n",
       "      <th>2_10_A_0</th>\n",
       "      <th>2_10_C_0</th>\n",
       "      <th>2_10_D_0</th>\n",
       "      <th>2_10_E_0</th>\n",
       "      <th>2_2_A_0</th>\n",
       "      <th>2_2_B_0</th>\n",
       "      <th>2_2_C_0</th>\n",
       "      <th>2_2_D_0</th>\n",
       "      <th>2_3_E_0</th>\n",
       "      <th>2_4_A_0</th>\n",
       "      <th>...</th>\n",
       "      <th>2_6_B_0</th>\n",
       "      <th>2_6_C_0</th>\n",
       "      <th>2_6_D_0</th>\n",
       "      <th>2_6_E_0</th>\n",
       "      <th>2_8_A_0</th>\n",
       "      <th>2_8_B_0</th>\n",
       "      <th>2_8_C_0</th>\n",
       "      <th>2_8_D_0</th>\n",
       "      <th>2_8_E_0</th>\n",
       "      <th>Unnamed: 24</th>\n",
       "    </tr>\n",
       "  </thead>\n",
       "  <tbody>\n",
       "    <tr>\n",
       "      <th>0</th>\n",
       "      <td>1863</td>\n",
       "      <td>2226</td>\n",
       "      <td>1815</td>\n",
       "      <td>2448</td>\n",
       "      <td>1812</td>\n",
       "      <td>1659</td>\n",
       "      <td>2016</td>\n",
       "      <td>1357</td>\n",
       "      <td>2161</td>\n",
       "      <td>1724</td>\n",
       "      <td>...</td>\n",
       "      <td>1709</td>\n",
       "      <td>1116</td>\n",
       "      <td>1394</td>\n",
       "      <td>2488</td>\n",
       "      <td>2207</td>\n",
       "      <td>2303</td>\n",
       "      <td>1112</td>\n",
       "      <td>285</td>\n",
       "      <td>1901</td>\n",
       "      <td>Other</td>\n",
       "    </tr>\n",
       "    <tr>\n",
       "      <th>1</th>\n",
       "      <td>225</td>\n",
       "      <td>298</td>\n",
       "      <td>473</td>\n",
       "      <td>458</td>\n",
       "      <td>423</td>\n",
       "      <td>387</td>\n",
       "      <td>306</td>\n",
       "      <td>276</td>\n",
       "      <td>419</td>\n",
       "      <td>531</td>\n",
       "      <td>...</td>\n",
       "      <td>416</td>\n",
       "      <td>310</td>\n",
       "      <td>182</td>\n",
       "      <td>469</td>\n",
       "      <td>221</td>\n",
       "      <td>531</td>\n",
       "      <td>207</td>\n",
       "      <td>43</td>\n",
       "      <td>274</td>\n",
       "      <td>Haptophytes</td>\n",
       "    </tr>\n",
       "    <tr>\n",
       "      <th>2</th>\n",
       "      <td>17803</td>\n",
       "      <td>15742</td>\n",
       "      <td>17085</td>\n",
       "      <td>11339</td>\n",
       "      <td>13115</td>\n",
       "      <td>12769</td>\n",
       "      <td>14048</td>\n",
       "      <td>17003</td>\n",
       "      <td>13887</td>\n",
       "      <td>15590</td>\n",
       "      <td>...</td>\n",
       "      <td>12481</td>\n",
       "      <td>15362</td>\n",
       "      <td>13127</td>\n",
       "      <td>11920</td>\n",
       "      <td>12979</td>\n",
       "      <td>16540</td>\n",
       "      <td>13179</td>\n",
       "      <td>23101</td>\n",
       "      <td>13102</td>\n",
       "      <td>Dinoflagellates</td>\n",
       "    </tr>\n",
       "    <tr>\n",
       "      <th>3</th>\n",
       "      <td>3311</td>\n",
       "      <td>3342</td>\n",
       "      <td>2962</td>\n",
       "      <td>7738</td>\n",
       "      <td>7408</td>\n",
       "      <td>8438</td>\n",
       "      <td>6405</td>\n",
       "      <td>3162</td>\n",
       "      <td>3104</td>\n",
       "      <td>3694</td>\n",
       "      <td>...</td>\n",
       "      <td>7797</td>\n",
       "      <td>5858</td>\n",
       "      <td>8010</td>\n",
       "      <td>4115</td>\n",
       "      <td>5046</td>\n",
       "      <td>2272</td>\n",
       "      <td>8811</td>\n",
       "      <td>146</td>\n",
       "      <td>7074</td>\n",
       "      <td>Diatoms</td>\n",
       "    </tr>\n",
       "    <tr>\n",
       "      <th>4</th>\n",
       "      <td>798</td>\n",
       "      <td>2392</td>\n",
       "      <td>1665</td>\n",
       "      <td>2017</td>\n",
       "      <td>1242</td>\n",
       "      <td>747</td>\n",
       "      <td>1225</td>\n",
       "      <td>2202</td>\n",
       "      <td>4429</td>\n",
       "      <td>2461</td>\n",
       "      <td>...</td>\n",
       "      <td>1597</td>\n",
       "      <td>1354</td>\n",
       "      <td>1287</td>\n",
       "      <td>5008</td>\n",
       "      <td>3547</td>\n",
       "      <td>2354</td>\n",
       "      <td>691</td>\n",
       "      <td>425</td>\n",
       "      <td>1649</td>\n",
       "      <td>Ciliates</td>\n",
       "    </tr>\n",
       "  </tbody>\n",
       "</table>\n",
       "<p>5 rows × 25 columns</p>\n",
       "</div>"
      ],
      "text/plain": [
       "   2_10_A_0  2_10_C_0  2_10_D_0  2_10_E_0  2_2_A_0  2_2_B_0  2_2_C_0  2_2_D_0  \\\n",
       "0      1863      2226      1815      2448     1812     1659     2016     1357   \n",
       "1       225       298       473       458      423      387      306      276   \n",
       "2     17803     15742     17085     11339    13115    12769    14048    17003   \n",
       "3      3311      3342      2962      7738     7408     8438     6405     3162   \n",
       "4       798      2392      1665      2017     1242      747     1225     2202   \n",
       "\n",
       "   2_3_E_0  2_4_A_0  ...  2_6_B_0  2_6_C_0  2_6_D_0  2_6_E_0  2_8_A_0  \\\n",
       "0     2161     1724  ...     1709     1116     1394     2488     2207   \n",
       "1      419      531  ...      416      310      182      469      221   \n",
       "2    13887    15590  ...    12481    15362    13127    11920    12979   \n",
       "3     3104     3694  ...     7797     5858     8010     4115     5046   \n",
       "4     4429     2461  ...     1597     1354     1287     5008     3547   \n",
       "\n",
       "   2_8_B_0  2_8_C_0  2_8_D_0  2_8_E_0      Unnamed: 24  \n",
       "0     2303     1112      285     1901            Other  \n",
       "1      531      207       43      274      Haptophytes  \n",
       "2    16540    13179    23101    13102  Dinoflagellates  \n",
       "3     2272     8811      146     7074          Diatoms  \n",
       "4     2354      691      425     1649         Ciliates  \n",
       "\n",
       "[5 rows x 25 columns]"
      ]
     },
     "execution_count": 5,
     "metadata": {},
     "output_type": "execute_result"
    }
   ],
   "source": [
    "#import data from csv file\n",
    "\n",
    "infile = \"./Sikuliaq_RemovalBreakdown_T2Analysis_All_forR.csv\"\n",
    "data = pd.read_csv(infile,sep=(','))\n",
    "data"
   ]
  },
  {
   "cell_type": "code",
   "execution_count": 62,
   "metadata": {},
   "outputs": [],
   "source": [
    "subsetT2 = data.loc[:,data.columns.str.startswith('2_')]\n",
    "subsetT2A = subsetT2.loc[:,subsetT2.columns.str.endswith('A_0')]\n",
    "subsetT2A = subsetT2A[['2_2_A_0', '2_4_A_0', '2_6_A_0', '2_8_A_0', '2_10_A_0']]\n",
    "ATp = np.transpose(subsetT2A)\n",
    "subsetT2B = subsetT2.loc[:,subsetT2.columns.str.endswith('B_0')]\n",
    "subsetT2B = subsetT2B[['2_2_B_0', '2_4_B_0', '2_6_B_0', '2_8_B_0']]\n",
    "BTp = np.transpose(subsetT2B)\n",
    "subsetT2C = subsetT2.loc[:,subsetT2.columns.str.endswith('C_0')]\n",
    "subsetT2C = subsetT2C[['2_2_C_0', '2_4_C_0', '2_6_C_0', '2_8_C_0', '2_10_C_0']]\n",
    "CTp = np.transpose(subsetT2C)\n",
    "subsetT2D = subsetT2.loc[:,subsetT2.columns.str.endswith('D_0')]\n",
    "subsetT2D = subsetT2D[['2_2_D_0', '2_4_D_0', '2_6_D_0', '2_8_D_0', '2_10_D_0']]\n",
    "DTp = np.transpose(subsetT2D)\n",
    "subsetT2E = subsetT2.loc[:,subsetT2.columns.str.endswith('E_0')]\n",
    "subsetT2E = subsetT2E[['2_3_E_0', '2_45_E_0', '2_6_E_0', '2_8_E_0', '2_10_E_0']]\n",
    "ETp = np.transpose(subsetT2E)"
   ]
  },
  {
   "cell_type": "code",
   "execution_count": 63,
   "metadata": {},
   "outputs": [
    {
     "data": {
      "text/html": [
       "<div>\n",
       "<style scoped>\n",
       "    .dataframe tbody tr th:only-of-type {\n",
       "        vertical-align: middle;\n",
       "    }\n",
       "\n",
       "    .dataframe tbody tr th {\n",
       "        vertical-align: top;\n",
       "    }\n",
       "\n",
       "    .dataframe thead th {\n",
       "        text-align: right;\n",
       "    }\n",
       "</style>\n",
       "<table border=\"1\" class=\"dataframe\">\n",
       "  <thead>\n",
       "    <tr style=\"text-align: right;\">\n",
       "      <th></th>\n",
       "      <th>0</th>\n",
       "      <th>1</th>\n",
       "      <th>2</th>\n",
       "      <th>3</th>\n",
       "      <th>4</th>\n",
       "    </tr>\n",
       "  </thead>\n",
       "  <tbody>\n",
       "    <tr>\n",
       "      <th>2_3_E_0</th>\n",
       "      <td>2161</td>\n",
       "      <td>419</td>\n",
       "      <td>13887</td>\n",
       "      <td>3104</td>\n",
       "      <td>4429</td>\n",
       "    </tr>\n",
       "    <tr>\n",
       "      <th>2_45_E_0</th>\n",
       "      <td>2938</td>\n",
       "      <td>283</td>\n",
       "      <td>17304</td>\n",
       "      <td>1710</td>\n",
       "      <td>1765</td>\n",
       "    </tr>\n",
       "    <tr>\n",
       "      <th>2_6_E_0</th>\n",
       "      <td>2488</td>\n",
       "      <td>469</td>\n",
       "      <td>11920</td>\n",
       "      <td>4115</td>\n",
       "      <td>5008</td>\n",
       "    </tr>\n",
       "    <tr>\n",
       "      <th>2_8_E_0</th>\n",
       "      <td>1901</td>\n",
       "      <td>274</td>\n",
       "      <td>13102</td>\n",
       "      <td>7074</td>\n",
       "      <td>1649</td>\n",
       "    </tr>\n",
       "    <tr>\n",
       "      <th>2_10_E_0</th>\n",
       "      <td>2448</td>\n",
       "      <td>458</td>\n",
       "      <td>11339</td>\n",
       "      <td>7738</td>\n",
       "      <td>2017</td>\n",
       "    </tr>\n",
       "  </tbody>\n",
       "</table>\n",
       "</div>"
      ],
      "text/plain": [
       "             0    1      2     3     4\n",
       "2_3_E_0   2161  419  13887  3104  4429\n",
       "2_45_E_0  2938  283  17304  1710  1765\n",
       "2_6_E_0   2488  469  11920  4115  5008\n",
       "2_8_E_0   1901  274  13102  7074  1649\n",
       "2_10_E_0  2448  458  11339  7738  2017"
      ]
     },
     "execution_count": 63,
     "metadata": {},
     "output_type": "execute_result"
    }
   ],
   "source": [
    "ETp"
   ]
  },
  {
   "cell_type": "code",
   "execution_count": 93,
   "metadata": {},
   "outputs": [
    {
     "data": {
      "image/png": "[encoded data removed]",
      "text/plain": [
       "<Figure size 432x288 with 1 Axes>"
      ]
     },
     "metadata": {
      "needs_background": "light"
     },
     "output_type": "display_data"
    }
   ],
   "source": [
    "x_labelsA = ['2_2_A', '2_4_A', '2_6_A', '2_8_A','2_10_A']\n",
    "df = pd.DataFrame(np.c_[np.log(ATp)],index = x_labelsA)\n",
    "#fontP = FontProperties()\n",
    "#fontP.set_size('small')\n",
    "ax = df.plot.bar()\n",
    "plt.ylim(top = 10,bottom=4)\n",
    "#df.plot(kind='bar', ax=ax)\n",
    "ax.legend([\"Other\", \"Haptophytes\",\"Dinoflagallates\",\"Diatoms\",\"Ciliates\"],bbox_to_anchor=(1.1, 1.05));\n",
    "ax.grid('on')\n",
    "plt.xlabel('Station')\n",
    "plt.ylabel('log(18S hits)')\n",
    "plt.title('Eukaryotic 18S hits in transect 2 A')\n",
    "#ax.savefig('samplefigure', bbox_extra_artists=(lgd,text), bbox_inches='tight')\n",
    "plt.savefig('2_A.png', bbox_extra_artists=(legend,text), bbox_inches='tight')\n",
    "\n",
    "plt.show()\n"
   ]
  },
  {
   "cell_type": "code",
   "execution_count": 94,
   "metadata": {},
   "outputs": [
    {
     "data": {
      "image/png": "[encoded data removed]",
      "text/plain": [
       "<Figure size 432x288 with 1 Axes>"
      ]
     },
     "metadata": {
      "needs_background": "light"
     },
     "output_type": "display_data"
    }
   ],
   "source": [
    "x_labelsB = ['2_2_B', '2_4_B', '2_6_B', '2_8_B']\n",
    "df = pd.DataFrame(np.c_[np.log(BTp)],index = x_labelsB)\n",
    "ax = df.plot.bar()\n",
    "plt.ylim(top = 10,bottom=4)\n",
    "#df.plot(kind='bar', ax=ax)\n",
    "ax.legend([\"Other\", \"Haptophytes\",\"Dinoflagallates\",\"Diatoms\",\"Ciliates\"],bbox_to_anchor=(1.1, 1.05));\n",
    "ax.grid('on')\n",
    "plt.xlabel('Station')\n",
    "plt.ylabel('log(18S hits)')\n",
    "plt.title('Eukaryotic 18S hits in transect 2 B')\n",
    "plt.savefig('2_B.png', bbox_extra_artists=(legend,text), bbox_inches='tight')\n",
    "\n",
    "plt.show()\n"
   ]
  },
  {
   "cell_type": "code",
   "execution_count": 95,
   "metadata": {},
   "outputs": [
    {
     "data": {
      "image/png": "[encoded data removed]",
      "text/plain": [
       "<Figure size 432x288 with 1 Axes>"
      ]
     },
     "metadata": {
      "needs_background": "light"
     },
     "output_type": "display_data"
    }
   ],
   "source": [
    "x_labelsC = ['2_2_C', '2_4_C', '2_6_C', '2_8_C','2_10_C']\n",
    "df = pd.DataFrame(np.c_[np.log(CTp)],index = x_labelsC)\n",
    "ax = df.plot.bar()\n",
    "plt.ylim(top = 10,bottom=4)\n",
    "#df.plot(kind='bar', ax=ax)\n",
    "ax.legend([\"Other\", \"Haptophytes\",\"Dinoflagallates\",\"Diatoms\",\"Ciliates\"],bbox_to_anchor=(1.1, 1.05));\n",
    "ax.grid('on')\n",
    "plt.xlabel('Station')\n",
    "plt.ylabel('log(18S hits)')\n",
    "plt.title('Eukaryotic 18S hits in transect 2 C')\n",
    "plt.savefig('2_C.png', bbox_extra_artists=(legend,text), bbox_inches='tight')\n",
    "\n",
    "plt.show()\n"
   ]
  },
  {
   "cell_type": "code",
   "execution_count": 96,
   "metadata": {},
   "outputs": [
    {
     "data": {
      "image/png": "[encoded data removed]",
      "text/plain": [
       "<Figure size 432x288 with 1 Axes>"
      ]
     },
     "metadata": {
      "needs_background": "light"
     },
     "output_type": "display_data"
    }
   ],
   "source": [
    "x_labelsD = ['2_2_D', '2_4_D', '2_6_D', '2_8_D','2_10_D']\n",
    "df = pd.DataFrame(np.c_[np.log(DTp)],index = x_labelsD)\n",
    "ax = df.plot.bar()\n",
    "plt.ylim(top = 10.2,bottom=3.6)\n",
    "#df.plot(kind='bar', ax=ax)\n",
    "ax.legend([\"Other\", \"Haptophytes\",\"Dinoflagallates\",\"Diatoms\",\"Ciliates\"],bbox_to_anchor=(1.1, 1.05));\n",
    "ax.grid('on')\n",
    "plt.xlabel('Station')\n",
    "plt.ylabel('log(18S hits)')\n",
    "plt.title('Eukaryotic 18S hits in transect 2 D')\n",
    "plt.savefig('2_D.png', bbox_extra_artists=(legend,text), bbox_inches='tight')\n",
    "\n",
    "plt.show()\n"
   ]
  },
  {
   "cell_type": "code",
   "execution_count": 97,
   "metadata": {},
   "outputs": [
    {
     "data": {
      "text/plain": [
       "<Figure size 432x288 with 0 Axes>"
      ]
     },
     "metadata": {},
     "output_type": "display_data"
    },
    {
     "data": {
      "image/png": "[encoded data removed]",
      "text/plain": [
       "<Figure size 432x288 with 1 Axes>"
      ]
     },
     "metadata": {
      "needs_background": "light"
     },
     "output_type": "display_data"
    }
   ],
   "source": [
    "x_labelsE = ['2_3_E', '2_45_E', '2_6_E', '2_8_E','2_10_E']\n",
    "fig = plt.figure(1)\n",
    "df = pd.DataFrame(np.c_[np.log(ETp)],index = x_labelsE)\n",
    "ax = df.plot.bar()\n",
    "plt.ylim(top = 10,bottom=4)\n",
    "#df.plot(kind='bar', ax=ax)\n",
    "legend = ax.legend([\"Other\", \"Haptophytes\",\"Dinoflagallates\",\"Diatoms\",\"Ciliates\"],bbox_to_anchor=(1.1, 1.05));\n",
    "#text = ax.text(-0.2,1.05, \"Aribitrary text\", transform=ax.transAxes)\n",
    "\n",
    "ax.grid('on')\n",
    "plt.xlabel('Station')\n",
    "plt.ylabel('log(18S hits)')\n",
    "plt.title('Eukaryotic 18S hits in transect 2 E')\n",
    "#plt.savefig('2_E.png')\n",
    "plt.savefig('2_E.png', bbox_extra_artists=(legend,text), bbox_inches='tight')\n",
    "plt.show()\n",
    "\n"
   ]
  },
  {
   "cell_type": "code",
   "execution_count": null,
   "metadata": {},
   "outputs": [],
   "source": []
  }
 ],
 "metadata": {
  "kernelspec": {
   "display_name": "Python 2",
   "language": "python",
   "name": "python2"
  },
  "language_info": {
   "codemirror_mode": {
    "name": "ipython",
    "version": 2
   },
   "file_extension": ".py",
   "mimetype": "text/x-python",
   "name": "python",
   "nbconvert_exporter": "python",
   "pygments_lexer": "ipython2",
   "version": "2.7.16"
  }
 },
 "nbformat": 4,
 "nbformat_minor": 2
}
