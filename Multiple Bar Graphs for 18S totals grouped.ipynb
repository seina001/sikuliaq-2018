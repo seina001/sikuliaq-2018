{
 "cells": [
  {
   "cell_type": "code",
   "execution_count": 1,
   "metadata": {},
   "outputs": [],
   "source": [
    "import numpy as np\n",
    "import pandas as pd\n",
    "import matplotlib.pyplot as plt"
   ]
  },
  {
   "cell_type": "code",
   "execution_count": 8,
   "metadata": {},
   "outputs": [
    {
     "data": {
      "text/html": [
       "<div>\n",
       "<style scoped>\n",
       "    .dataframe tbody tr th:only-of-type {\n",
       "        vertical-align: middle;\n",
       "    }\n",
       "\n",
       "    .dataframe tbody tr th {\n",
       "        vertical-align: top;\n",
       "    }\n",
       "\n",
       "    .dataframe thead th {\n",
       "        text-align: right;\n",
       "    }\n",
       "</style>\n",
       "<table border=\"1\" class=\"dataframe\">\n",
       "  <thead>\n",
       "    <tr style=\"text-align: right;\">\n",
       "      <th></th>\n",
       "      <th>2_2_A_0</th>\n",
       "      <th>2_4_A_0</th>\n",
       "      <th>2_6_A_0</th>\n",
       "      <th>2_8_A_0</th>\n",
       "      <th>2_10_A_0</th>\n",
       "      <th>2_2_B_0</th>\n",
       "      <th>2_4_B_0</th>\n",
       "      <th>2_6_B_0</th>\n",
       "      <th>2_8_B_0</th>\n",
       "      <th>2_2_C_0</th>\n",
       "      <th>...</th>\n",
       "      <th>2_4_D_0</th>\n",
       "      <th>2_6_D_0</th>\n",
       "      <th>2_8_D_0</th>\n",
       "      <th>2_10_D_0</th>\n",
       "      <th>2_3_E_0</th>\n",
       "      <th>2_45_E_0</th>\n",
       "      <th>2_6_E_0</th>\n",
       "      <th>2_8_E_0</th>\n",
       "      <th>2_10_E_0</th>\n",
       "      <th>Unnamed: 24</th>\n",
       "    </tr>\n",
       "  </thead>\n",
       "  <tbody>\n",
       "    <tr>\n",
       "      <th>0</th>\n",
       "      <td>19680</td>\n",
       "      <td>6404</td>\n",
       "      <td>9658</td>\n",
       "      <td>6129</td>\n",
       "      <td>6466</td>\n",
       "      <td>26217</td>\n",
       "      <td>10845</td>\n",
       "      <td>17117</td>\n",
       "      <td>2293</td>\n",
       "      <td>11111</td>\n",
       "      <td>...</td>\n",
       "      <td>7083</td>\n",
       "      <td>15265</td>\n",
       "      <td>557</td>\n",
       "      <td>3846</td>\n",
       "      <td>8059</td>\n",
       "      <td>4993</td>\n",
       "      <td>6976</td>\n",
       "      <td>15656</td>\n",
       "      <td>19403</td>\n",
       "      <td>Diatoms</td>\n",
       "    </tr>\n",
       "    <tr>\n",
       "      <th>1</th>\n",
       "      <td>3309</td>\n",
       "      <td>4161</td>\n",
       "      <td>4860</td>\n",
       "      <td>4358</td>\n",
       "      <td>1533</td>\n",
       "      <td>2391</td>\n",
       "      <td>1958</td>\n",
       "      <td>3481</td>\n",
       "      <td>2376</td>\n",
       "      <td>2156</td>\n",
       "      <td>...</td>\n",
       "      <td>2178</td>\n",
       "      <td>2419</td>\n",
       "      <td>1714</td>\n",
       "      <td>2141</td>\n",
       "      <td>11597</td>\n",
       "      <td>5182</td>\n",
       "      <td>8502</td>\n",
       "      <td>3608</td>\n",
       "      <td>5116</td>\n",
       "      <td>Ciliates</td>\n",
       "    </tr>\n",
       "    <tr>\n",
       "      <th>2</th>\n",
       "      <td>1185</td>\n",
       "      <td>933</td>\n",
       "      <td>653</td>\n",
       "      <td>271</td>\n",
       "      <td>427</td>\n",
       "      <td>1170</td>\n",
       "      <td>135</td>\n",
       "      <td>887</td>\n",
       "      <td>539</td>\n",
       "      <td>552</td>\n",
       "      <td>...</td>\n",
       "      <td>1143</td>\n",
       "      <td>356</td>\n",
       "      <td>128</td>\n",
       "      <td>594</td>\n",
       "      <td>1028</td>\n",
       "      <td>877</td>\n",
       "      <td>805</td>\n",
       "      <td>593</td>\n",
       "      <td>1156</td>\n",
       "      <td>Haptophytes</td>\n",
       "    </tr>\n",
       "    <tr>\n",
       "      <th>3</th>\n",
       "      <td>35161</td>\n",
       "      <td>26807</td>\n",
       "      <td>28766</td>\n",
       "      <td>15775</td>\n",
       "      <td>35015</td>\n",
       "      <td>40135</td>\n",
       "      <td>13710</td>\n",
       "      <td>26987</td>\n",
       "      <td>16671</td>\n",
       "      <td>24416</td>\n",
       "      <td>...</td>\n",
       "      <td>32491</td>\n",
       "      <td>25146</td>\n",
       "      <td>92247</td>\n",
       "      <td>22054</td>\n",
       "      <td>35904</td>\n",
       "      <td>51024</td>\n",
       "      <td>20178</td>\n",
       "      <td>28480</td>\n",
       "      <td>29004</td>\n",
       "      <td>Dinoflagallates</td>\n",
       "    </tr>\n",
       "    <tr>\n",
       "      <th>4</th>\n",
       "      <td>4729</td>\n",
       "      <td>2899</td>\n",
       "      <td>2290</td>\n",
       "      <td>2684</td>\n",
       "      <td>3599</td>\n",
       "      <td>5234</td>\n",
       "      <td>657</td>\n",
       "      <td>3695</td>\n",
       "      <td>2332</td>\n",
       "      <td>3509</td>\n",
       "      <td>...</td>\n",
       "      <td>2523</td>\n",
       "      <td>2645</td>\n",
       "      <td>1194</td>\n",
       "      <td>2343</td>\n",
       "      <td>5486</td>\n",
       "      <td>8502</td>\n",
       "      <td>4216</td>\n",
       "      <td>4131</td>\n",
       "      <td>6249</td>\n",
       "      <td>Other</td>\n",
       "    </tr>\n",
       "  </tbody>\n",
       "</table>\n",
       "<p>5 rows × 25 columns</p>\n",
       "</div>"
      ],
      "text/plain": [
       "   2_2_A_0  2_4_A_0  2_6_A_0  2_8_A_0  2_10_A_0  2_2_B_0  2_4_B_0  2_6_B_0  \\\n",
       "0    19680     6404     9658     6129      6466    26217    10845    17117   \n",
       "1     3309     4161     4860     4358      1533     2391     1958     3481   \n",
       "2     1185      933      653      271       427     1170      135      887   \n",
       "3    35161    26807    28766    15775     35015    40135    13710    26987   \n",
       "4     4729     2899     2290     2684      3599     5234      657     3695   \n",
       "\n",
       "   2_8_B_0  2_2_C_0  ...  2_4_D_0  2_6_D_0  2_8_D_0  2_10_D_0  2_3_E_0  \\\n",
       "0     2293    11111  ...     7083    15265      557      3846     8059   \n",
       "1     2376     2156  ...     2178     2419     1714      2141    11597   \n",
       "2      539      552  ...     1143      356      128       594     1028   \n",
       "3    16671    24416  ...    32491    25146    92247     22054    35904   \n",
       "4     2332     3509  ...     2523     2645     1194      2343     5486   \n",
       "\n",
       "   2_45_E_0  2_6_E_0  2_8_E_0  2_10_E_0      Unnamed: 24  \n",
       "0      4993     6976    15656     19403          Diatoms  \n",
       "1      5182     8502     3608      5116         Ciliates  \n",
       "2       877      805      593      1156      Haptophytes  \n",
       "3     51024    20178    28480     29004  Dinoflagallates  \n",
       "4      8502     4216     4131      6249            Other  \n",
       "\n",
       "[5 rows x 25 columns]"
      ]
     },
     "execution_count": 8,
     "metadata": {},
     "output_type": "execute_result"
    }
   ],
   "source": [
    "#import data from csv file\n",
    "\n",
    "infile = \"./Sikuliaq_RemovalBreakdown_T2Analysis_All.csv\"\n",
    "data = pd.read_csv(infile,sep=(','))\n",
    "data"
   ]
  },
  {
   "cell_type": "code",
   "execution_count": 43,
   "metadata": {},
   "outputs": [],
   "source": [
    "subsetT2 = data.loc[:,data.columns.str.startswith('2_')]\n",
    "subsetT2A = subsetT2.loc[:,subsetT2.columns.str.endswith('A_0')]\n",
    "subsetT2A = subsetT2A[['2_2_A_0', '2_4_A_0', '2_6_A_0', '2_8_A_0', '2_10_A_0']]\n",
    "ATp = np.transpose(subsetT2A)\n",
    "subsetT2B = subsetT2.loc[:,subsetT2.columns.str.endswith('B_0')]\n",
    "subsetT2B = subsetT2B[['2_2_B_0', '2_4_B_0', '2_6_B_0', '2_8_B_0']]\n",
    "BTp = np.transpose(subsetT2B)\n",
    "subsetT2C = subsetT2.loc[:,subsetT2.columns.str.endswith('C_0')]\n",
    "subsetT2C = subsetT2C[['2_2_C_0', '2_4_C_0', '2_6_C_0', '2_8_C_0', '2_10_C_0']]\n",
    "CTp = np.transpose(subsetT2C)\n",
    "subsetT2D = subsetT2.loc[:,subsetT2.columns.str.endswith('D_0')]\n",
    "subsetT2D = subsetT2D[['2_2_D_0', '2_4_D_0', '2_6_D_0', '2_8_D_0', '2_10_D_0']]\n",
    "DTp = np.transpose(subsetT2D)"
   ]
  },
  {
   "cell_type": "code",
   "execution_count": 57,
   "metadata": {},
   "outputs": [
    {
     "data": {
      "image/png": "[encoded data removed]",
      "text/plain": [
       "<Figure size 432x288 with 1 Axes>"
      ]
     },
     "metadata": {
      "needs_background": "light"
     },
     "output_type": "display_data"
    }
   ],
   "source": [
    "x_labelsA = ['2_2_A_0', '2_4_A_0', '2_6_A_0', '2_8_A_0','2_10_A_0']\n",
    "df = pd.DataFrame(np.c_[np.log(ATp)],index = x_labelsA)\n",
    "ax = df.plot.bar()\n",
    "plt.ylim(top = 11,bottom=5)\n",
    "#df.plot(kind='bar', ax=ax)\n",
    "ax.legend([\"Diatoms\", \"Ciliates\",\"Haptophytes\",\"Dinoflagallates\",\"Other\"]);\n",
    "plt.show()"
   ]
  },
  {
   "cell_type": "code",
   "execution_count": 58,
   "metadata": {},
   "outputs": [
    {
     "data": {
      "image/png": "[encoded data removed]",
      "text/plain": [
       "<Figure size 432x288 with 1 Axes>"
      ]
     },
     "metadata": {
      "needs_background": "light"
     },
     "output_type": "display_data"
    }
   ],
   "source": [
    "x_labelsB = ['2_2_B_0', '2_4_B_0', '2_6_B_0', '2_8_B_0']\n",
    "df = pd.DataFrame(np.c_[np.log(BTp)],index = x_labelsB)\n",
    "ax = df.plot.bar()\n",
    "plt.ylim(top = 11,bottom=5)\n",
    "#df.plot(kind='bar', ax=ax)\n",
    "ax.legend([\"Diatoms\", \"Ciliates\",\"Haptophytes\",\"Dinoflagallates\",\"Other\"]);\n",
    "plt.show()"
   ]
  },
  {
   "cell_type": "code",
   "execution_count": 61,
   "metadata": {},
   "outputs": [
    {
     "data": {
      "image/png": "[encoded data removed]",
      "text/plain": [
       "<Figure size 432x288 with 1 Axes>"
      ]
     },
     "metadata": {
      "needs_background": "light"
     },
     "output_type": "display_data"
    }
   ],
   "source": [
    "x_labelsC = ['2_2_C_0', '2_4_C_0', '2_6_C_0', '2_8_C_0','2_10_C_0']\n",
    "df = pd.DataFrame(np.c_[np.log(CTp)],index = x_labelsC)\n",
    "ax = df.plot.bar()\n",
    "plt.ylim(top = 11,bottom=5)\n",
    "#df.plot(kind='bar', ax=ax)\n",
    "ax.legend([\"Diatoms\", \"Ciliates\",\"Haptophytes\",\"Dinoflagallates\",\"Other\"]);\n",
    "plt.show()"
   ]
  },
  {
   "cell_type": "code",
   "execution_count": 60,
   "metadata": {},
   "outputs": [
    {
     "data": {
      "image/png": "[encoded data removed]",
      "text/plain": [
       "<Figure size 432x288 with 1 Axes>"
      ]
     },
     "metadata": {
      "needs_background": "light"
     },
     "output_type": "display_data"
    }
   ],
   "source": [
    "x_labelsD = ['2_2_D_0', '2_4_D_0', '2_6_D_0', '2_8_D_0','2_10_D_0']\n",
    "df = pd.DataFrame(np.c_[np.log(DTp)],index = x_labelsD)\n",
    "ax = df.plot.bar()\n",
    "plt.ylim(top = 11,bottom=5)\n",
    "#df.plot(kind='bar', ax=ax)\n",
    "ax.legend([\"Diatoms\", \"Ciliates\",\"Haptophytes\",\"Dinoflagallates\",\"Other\"]);\n",
    "plt.show()"
   ]
  },
  {
   "cell_type": "code",
   "execution_count": null,
   "metadata": {},
   "outputs": [],
   "source": [
    "\n",
    "\n"
   ]
  },
  {
   "cell_type": "code",
   "execution_count": null,
   "metadata": {},
   "outputs": [],
   "source": []
  }
 ],
 "metadata": {
  "kernelspec": {
   "display_name": "Python 2",
   "language": "python",
   "name": "python2"
  },
  "language_info": {
   "codemirror_mode": {
    "name": "ipython",
    "version": 2
   },
   "file_extension": ".py",
   "mimetype": "text/x-python",
   "name": "python",
   "nbconvert_exporter": "python",
   "pygments_lexer": "ipython2",
   "version": "2.7.16"
  }
 },
 "nbformat": 4,
 "nbformat_minor": 2
}
